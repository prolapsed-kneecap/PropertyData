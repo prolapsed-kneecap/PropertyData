{
  "nbformat": 4,
  "nbformat_minor": 0,
  "metadata": {
    "colab": {
      "provenance": [],
      "authorship_tag": "ABX9TyN8DKolI5Jq5CKtAfud1HRP",
      "include_colab_link": true
    },
    "kernelspec": {
      "name": "python3",
      "display_name": "Python 3"
    },
    "language_info": {
      "name": "python"
    }
  },
  "cells": [
    {
      "cell_type": "markdown",
      "metadata": {
        "id": "view-in-github",
        "colab_type": "text"
      },
      "source": [
        "<a href=\"https://colab.research.google.com/github/prolapsed-kneecap/PropertyData/blob/main/Untitled5.ipynb\" target=\"_parent\"><img src=\"https://colab.research.google.com/assets/colab-badge.svg\" alt=\"Open In Colab\"/></a>"
      ]
    },
    {
      "cell_type": "code",
      "execution_count": 611,
      "metadata": {
        "id": "r2bd5IPcVO-3"
      },
      "outputs": [],
      "source": [
        "import pandas as pd\n",
        "import matplotlib.pyplot as plt\n",
        "from sklearn.linear_model import LinearRegression\n",
        "from sklearn.ensemble import RandomForestRegressor\n",
        "from sklearn.metrics import r2_score\n",
        "from sklearn.model_selection import train_test_split\n",
        "from sklearn.metrics import mean_squared_error, r2_score"
      ]
    },
    {
      "cell_type": "code",
      "source": [
        "pd.set_option('display.max_columns', None)\n",
        "pd.set_option('display.max_rows', None)"
      ],
      "metadata": {
        "id": "caAhJbuHVQ3j"
      },
      "execution_count": 612,
      "outputs": []
    },
    {
      "cell_type": "code",
      "source": [
        "df1 = pd.read_csv(\"train.csv\")"
      ],
      "metadata": {
        "id": "pEpaKXnCVSei"
      },
      "execution_count": 613,
      "outputs": []
    },
    {
      "cell_type": "code",
      "source": [
        "df2 = pd.read_csv(\"macro.csv\")"
      ],
      "metadata": {
        "id": "X65TCLYoVTdE"
      },
      "execution_count": 614,
      "outputs": []
    },
    {
      "cell_type": "code",
      "source": [
        "df = pd.merge(df1, df2, on=['timestamp', 'timestamp'])"
      ],
      "metadata": {
        "id": "L8A7BjvfVUhk"
      },
      "execution_count": 615,
      "outputs": []
    },
    {
      "cell_type": "code",
      "source": [
        "df.isna().sum()"
      ],
      "metadata": {
        "colab": {
          "base_uri": "https://localhost:8080/"
        },
        "id": "Q0LuM3-0VVnL",
        "outputId": "464a3ad8-8d49-4f45-9e0a-40e56f9e72fa"
      },
      "execution_count": 616,
      "outputs": [
        {
          "output_type": "execute_result",
          "data": {
            "text/plain": [
              "id                                                0\n",
              "timestamp                                         0\n",
              "full_sq                                           0\n",
              "life_sq                                        6383\n",
              "floor                                           167\n",
              "max_floor                                      9572\n",
              "material                                       9572\n",
              "build_year                                    13605\n",
              "num_room                                       9572\n",
              "kitch_sq                                       9572\n",
              "state                                         13559\n",
              "product_type                                      0\n",
              "sub_area                                          0\n",
              "area_m                                            0\n",
              "raion_popul                                       0\n",
              "green_zone_part                                   0\n",
              "indust_part                                       0\n",
              "children_preschool                                0\n",
              "preschool_quota                                6688\n",
              "preschool_education_centers_raion                 0\n",
              "children_school                                   0\n",
              "school_quota                                   6685\n",
              "school_education_centers_raion                    0\n",
              "school_education_centers_top_20_raion             0\n",
              "hospital_beds_raion                           14441\n",
              "healthcare_centers_raion                          0\n",
              "university_top_20_raion                           0\n",
              "sport_objects_raion                               0\n",
              "additional_education_raion                        0\n",
              "culture_objects_top_25                            0\n",
              "culture_objects_top_25_raion                      0\n",
              "shopping_centers_raion                            0\n",
              "office_raion                                      0\n",
              "thermal_power_plant_raion                         0\n",
              "incineration_raion                                0\n",
              "oil_chemistry_raion                               0\n",
              "radiation_raion                                   0\n",
              "railroad_terminal_raion                           0\n",
              "big_market_raion                                  0\n",
              "nuclear_reactor_raion                             0\n",
              "detention_facility_raion                          0\n",
              "full_all                                          0\n",
              "male_f                                            0\n",
              "female_f                                          0\n",
              "young_all                                         0\n",
              "young_male                                        0\n",
              "young_female                                      0\n",
              "work_all                                          0\n",
              "work_male                                         0\n",
              "work_female                                       0\n",
              "ekder_all                                         0\n",
              "ekder_male                                        0\n",
              "ekder_female                                      0\n",
              "0_6_all                                           0\n",
              "0_6_male                                          0\n",
              "0_6_female                                        0\n",
              "7_14_all                                          0\n",
              "7_14_male                                         0\n",
              "7_14_female                                       0\n",
              "0_17_all                                          0\n",
              "0_17_male                                         0\n",
              "0_17_female                                       0\n",
              "16_29_all                                         0\n",
              "16_29_male                                        0\n",
              "16_29_female                                      0\n",
              "0_13_all                                          0\n",
              "0_13_male                                         0\n",
              "0_13_female                                       0\n",
              "raion_build_count_with_material_info           4991\n",
              "build_count_block                              4991\n",
              "build_count_wood                               4991\n",
              "build_count_frame                              4991\n",
              "build_count_brick                              4991\n",
              "build_count_monolith                           4991\n",
              "build_count_panel                              4991\n",
              "build_count_foam                               4991\n",
              "build_count_slag                               4991\n",
              "build_count_mix                                4991\n",
              "raion_build_count_with_builddate_info          4991\n",
              "build_count_before_1920                        4991\n",
              "build_count_1921-1945                          4991\n",
              "build_count_1946-1970                          4991\n",
              "build_count_1971-1995                          4991\n",
              "build_count_after_1995                         4991\n",
              "ID_metro                                          0\n",
              "metro_min_avto                                    0\n",
              "metro_km_avto                                     0\n",
              "metro_min_walk                                   25\n",
              "metro_km_walk                                    25\n",
              "kindergarten_km                                   0\n",
              "school_km                                         0\n",
              "park_km                                           0\n",
              "green_zone_km                                     0\n",
              "industrial_km                                     0\n",
              "water_treatment_km                                0\n",
              "cemetery_km                                       0\n",
              "incineration_km                                   0\n",
              "railroad_station_walk_km                         25\n",
              "railroad_station_walk_min                        25\n",
              "ID_railroad_station_walk                         25\n",
              "railroad_station_avto_km                          0\n",
              "railroad_station_avto_min                         0\n",
              "ID_railroad_station_avto                          0\n",
              "public_transport_station_km                       0\n",
              "public_transport_station_min_walk                 0\n",
              "water_km                                          0\n",
              "water_1line                                       0\n",
              "mkad_km                                           0\n",
              "ttk_km                                            0\n",
              "sadovoe_km                                        0\n",
              "bulvar_ring_km                                    0\n",
              "kremlin_km                                        0\n",
              "big_road1_km                                      0\n",
              "ID_big_road1                                      0\n",
              "big_road1_1line                                   0\n",
              "big_road2_km                                      0\n",
              "ID_big_road2                                      0\n",
              "railroad_km                                       0\n",
              "railroad_1line                                    0\n",
              "zd_vokzaly_avto_km                                0\n",
              "ID_railroad_terminal                              0\n",
              "bus_terminal_avto_km                              0\n",
              "ID_bus_terminal                                   0\n",
              "oil_chemistry_km                                  0\n",
              "nuclear_reactor_km                                0\n",
              "radiation_km                                      0\n",
              "power_transmission_line_km                        0\n",
              "thermal_power_plant_km                            0\n",
              "ts_km                                             0\n",
              "big_market_km                                     0\n",
              "market_shop_km                                    0\n",
              "fitness_km                                        0\n",
              "swim_pool_km                                      0\n",
              "ice_rink_km                                       0\n",
              "stadium_km                                        0\n",
              "basketball_km                                     0\n",
              "hospice_morgue_km                                 0\n",
              "detention_facility_km                             0\n",
              "public_healthcare_km                              0\n",
              "university_km                                     0\n",
              "workplaces_km                                     0\n",
              "shopping_centers_km                               0\n",
              "office_km                                         0\n",
              "additional_education_km                           0\n",
              "preschool_km                                      0\n",
              "big_church_km                                     0\n",
              "church_synagogue_km                               0\n",
              "mosque_km                                         0\n",
              "theater_km                                        0\n",
              "museum_km                                         0\n",
              "exhibition_km                                     0\n",
              "catering_km                                       0\n",
              "ecology                                           0\n",
              "green_part_500                                    0\n",
              "prom_part_500                                     0\n",
              "office_count_500                                  0\n",
              "office_sqm_500                                    0\n",
              "trc_count_500                                     0\n",
              "trc_sqm_500                                       0\n",
              "cafe_count_500                                    0\n",
              "cafe_sum_500_min_price_avg                    13281\n",
              "cafe_sum_500_max_price_avg                    13281\n",
              "cafe_avg_price_500                            13281\n",
              "cafe_count_500_na_price                           0\n",
              "cafe_count_500_price_500                          0\n",
              "cafe_count_500_price_1000                         0\n",
              "cafe_count_500_price_1500                         0\n",
              "cafe_count_500_price_2500                         0\n",
              "cafe_count_500_price_4000                         0\n",
              "cafe_count_500_price_high                         0\n",
              "big_church_count_500                              0\n",
              "church_count_500                                  0\n",
              "mosque_count_500                                  0\n",
              "leisure_count_500                                 0\n",
              "sport_count_500                                   0\n",
              "market_count_500                                  0\n",
              "green_part_1000                                   0\n",
              "prom_part_1000                                    0\n",
              "office_count_1000                                 0\n",
              "office_sqm_1000                                   0\n",
              "trc_count_1000                                    0\n",
              "trc_sqm_1000                                      0\n",
              "cafe_count_1000                                   0\n",
              "cafe_sum_1000_min_price_avg                    6524\n",
              "cafe_sum_1000_max_price_avg                    6524\n",
              "cafe_avg_price_1000                            6524\n",
              "cafe_count_1000_na_price                          0\n",
              "cafe_count_1000_price_500                         0\n",
              "cafe_count_1000_price_1000                        0\n",
              "cafe_count_1000_price_1500                        0\n",
              "cafe_count_1000_price_2500                        0\n",
              "cafe_count_1000_price_4000                        0\n",
              "cafe_count_1000_price_high                        0\n",
              "big_church_count_1000                             0\n",
              "church_count_1000                                 0\n",
              "mosque_count_1000                                 0\n",
              "leisure_count_1000                                0\n",
              "sport_count_1000                                  0\n",
              "market_count_1000                                 0\n",
              "green_part_1500                                   0\n",
              "prom_part_1500                                    0\n",
              "office_count_1500                                 0\n",
              "office_sqm_1500                                   0\n",
              "trc_count_1500                                    0\n",
              "trc_sqm_1500                                      0\n",
              "cafe_count_1500                                   0\n",
              "cafe_sum_1500_min_price_avg                    4199\n",
              "cafe_sum_1500_max_price_avg                    4199\n",
              "cafe_avg_price_1500                            4199\n",
              "cafe_count_1500_na_price                          0\n",
              "cafe_count_1500_price_500                         0\n",
              "cafe_count_1500_price_1000                        0\n",
              "cafe_count_1500_price_1500                        0\n",
              "cafe_count_1500_price_2500                        0\n",
              "cafe_count_1500_price_4000                        0\n",
              "cafe_count_1500_price_high                        0\n",
              "big_church_count_1500                             0\n",
              "church_count_1500                                 0\n",
              "mosque_count_1500                                 0\n",
              "leisure_count_1500                                0\n",
              "sport_count_1500                                  0\n",
              "market_count_1500                                 0\n",
              "green_part_2000                                   0\n",
              "prom_part_2000                                    0\n",
              "office_count_2000                                 0\n",
              "office_sqm_2000                                   0\n",
              "trc_count_2000                                    0\n",
              "trc_sqm_2000                                      0\n",
              "cafe_count_2000                                   0\n",
              "cafe_sum_2000_min_price_avg                    1725\n",
              "cafe_sum_2000_max_price_avg                    1725\n",
              "cafe_avg_price_2000                            1725\n",
              "cafe_count_2000_na_price                          0\n",
              "cafe_count_2000_price_500                         0\n",
              "cafe_count_2000_price_1000                        0\n",
              "cafe_count_2000_price_1500                        0\n",
              "cafe_count_2000_price_2500                        0\n",
              "cafe_count_2000_price_4000                        0\n",
              "cafe_count_2000_price_high                        0\n",
              "big_church_count_2000                             0\n",
              "church_count_2000                                 0\n",
              "mosque_count_2000                                 0\n",
              "leisure_count_2000                                0\n",
              "sport_count_2000                                  0\n",
              "market_count_2000                                 0\n",
              "green_part_3000                                   0\n",
              "prom_part_3000                                    0\n",
              "office_count_3000                                 0\n",
              "office_sqm_3000                                   0\n",
              "trc_count_3000                                    0\n",
              "trc_sqm_3000                                      0\n",
              "cafe_count_3000                                   0\n",
              "cafe_sum_3000_min_price_avg                     991\n",
              "cafe_sum_3000_max_price_avg                     991\n",
              "cafe_avg_price_3000                             991\n",
              "cafe_count_3000_na_price                          0\n",
              "cafe_count_3000_price_500                         0\n",
              "cafe_count_3000_price_1000                        0\n",
              "cafe_count_3000_price_1500                        0\n",
              "cafe_count_3000_price_2500                        0\n",
              "cafe_count_3000_price_4000                        0\n",
              "cafe_count_3000_price_high                        0\n",
              "big_church_count_3000                             0\n",
              "church_count_3000                                 0\n",
              "mosque_count_3000                                 0\n",
              "leisure_count_3000                                0\n",
              "sport_count_3000                                  0\n",
              "market_count_3000                                 0\n",
              "green_part_5000                                   0\n",
              "prom_part_5000                                  178\n",
              "office_count_5000                                 0\n",
              "office_sqm_5000                                   0\n",
              "trc_count_5000                                    0\n",
              "trc_sqm_5000                                      0\n",
              "cafe_count_5000                                   0\n",
              "cafe_sum_5000_min_price_avg                     297\n",
              "cafe_sum_5000_max_price_avg                     297\n",
              "cafe_avg_price_5000                             297\n",
              "cafe_count_5000_na_price                          0\n",
              "cafe_count_5000_price_500                         0\n",
              "cafe_count_5000_price_1000                        0\n",
              "cafe_count_5000_price_1500                        0\n",
              "cafe_count_5000_price_2500                        0\n",
              "cafe_count_5000_price_4000                        0\n",
              "cafe_count_5000_price_high                        0\n",
              "big_church_count_5000                             0\n",
              "church_count_5000                                 0\n",
              "mosque_count_5000                                 0\n",
              "leisure_count_5000                                0\n",
              "sport_count_5000                                  0\n",
              "market_count_5000                                 0\n",
              "price_doc                                         0\n",
              "oil_urals                                         0\n",
              "gdp_quart                                         0\n",
              "gdp_quart_growth                                  0\n",
              "cpi                                               0\n",
              "ppi                                               0\n",
              "gdp_deflator                                      0\n",
              "balance_trade                                     0\n",
              "balance_trade_growth                              0\n",
              "usdrub                                            0\n",
              "eurrub                                            0\n",
              "brent                                             0\n",
              "net_capital_export                                0\n",
              "gdp_annual                                        0\n",
              "gdp_annual_growth                                 0\n",
              "average_provision_of_build_contract               0\n",
              "average_provision_of_build_contract_moscow        0\n",
              "rts                                               0\n",
              "micex                                             0\n",
              "micex_rgbi_tr                                     0\n",
              "micex_cbi_tr                                      0\n",
              "deposits_value                                    0\n",
              "deposits_growth                                   0\n",
              "deposits_rate                                     0\n",
              "mortgage_value                                    0\n",
              "mortgage_growth                                   0\n",
              "mortgage_rate                                     0\n",
              "grp                                            3239\n",
              "grp_growth                                     3239\n",
              "income_per_cap                                    0\n",
              "real_dispos_income_per_cap_growth              3239\n",
              "salary                                            0\n",
              "salary_growth                                     0\n",
              "fixed_basket                                      0\n",
              "retail_trade_turnover                             0\n",
              "retail_trade_turnover_per_cap                     0\n",
              "retail_trade_turnover_growth                      0\n",
              "labor_force                                       0\n",
              "unemployment                                      0\n",
              "employment                                        0\n",
              "invest_fixed_capital_per_cap                      0\n",
              "invest_fixed_assets                               0\n",
              "profitable_enterpr_share                       3239\n",
              "unprofitable_enterpr_share                     3239\n",
              "share_own_revenues                             3239\n",
              "overdue_wages_per_cap                          3239\n",
              "fin_res_per_cap                                3239\n",
              "marriages_per_1000_cap                         3239\n",
              "divorce_rate                                   3239\n",
              "construction_value                             3239\n",
              "invest_fixed_assets_phys                       3239\n",
              "pop_natural_increase                              0\n",
              "pop_migration                                  3239\n",
              "pop_total_inc                                  3239\n",
              "childbirth                                        0\n",
              "mortality                                         0\n",
              "housing_fund_sqm                               3239\n",
              "lodging_sqm_per_cap                            3239\n",
              "water_pipes_share                              3239\n",
              "baths_share                                    3239\n",
              "sewerage_share                                 3239\n",
              "gas_share                                      3239\n",
              "hot_water_share                                3239\n",
              "electric_stove_share                           3239\n",
              "heating_share                                  3239\n",
              "old_house_share                                3239\n",
              "average_life_exp                                  0\n",
              "infant_mortarity_per_1000_cap                  3239\n",
              "perinatal_mort_per_1000_cap                    3239\n",
              "incidence_population                           3239\n",
              "rent_price_4+room_bus                             0\n",
              "rent_price_3room_bus                              0\n",
              "rent_price_2room_bus                              0\n",
              "rent_price_1room_bus                              0\n",
              "rent_price_3room_eco                              0\n",
              "rent_price_2room_eco                              0\n",
              "rent_price_1room_eco                              0\n",
              "load_of_teachers_preschool_per_teacher        16901\n",
              "child_on_acc_pre_school                        3239\n",
              "load_of_teachers_school_per_teacher               0\n",
              "students_state_oneshift                           0\n",
              "modern_education_share                         5592\n",
              "old_education_build_share                      5592\n",
              "provision_doctors                              3239\n",
              "provision_nurse                                   0\n",
              "load_on_doctors                                   0\n",
              "power_clinics                                  3239\n",
              "hospital_beds_available_per_cap                3239\n",
              "hospital_bed_occupancy_per_year                3239\n",
              "provision_retail_space_sqm                    24879\n",
              "provision_retail_space_modern_sqm             29718\n",
              "turnover_catering_per_cap                         0\n",
              "theaters_viewers_per_1000_cap                 16901\n",
              "seats_theather_rfmin_per_100000_cap               0\n",
              "museum_visitis_per_100_cap                    16901\n",
              "bandwidth_sports                                  0\n",
              "population_reg_sports_share                    3239\n",
              "students_reg_sports_share                     16901\n",
              "apartment_build                                3239\n",
              "apartment_fund_sqm                                0\n",
              "dtype: int64"
            ]
          },
          "metadata": {},
          "execution_count": 616
        }
      ]
    },
    {
      "cell_type": "code",
      "source": [
        "df = df.drop(columns = ['provision_retail_space_sqm', 'provision_retail_space_modern_sqm', 'theaters_viewers_per_1000_cap', 'students_reg_sports_share', 'museum_visitis_per_100_cap', 'students_reg_sports_share', 'load_of_teachers_preschool_per_teacher'])"
      ],
      "metadata": {
        "id": "S2CJ6x1mXTuS"
      },
      "execution_count": 617,
      "outputs": []
    },
    {
      "cell_type": "code",
      "source": [
        "df.dropna(axis = 'index', subset = ['floor', 'railroad_station_walk_km', 'railroad_station_walk_min', 'ID_railroad_station_walk', 'prom_part_5000', 'cafe_sum_5000_min_price_avg', 'cafe_sum_5000_max_price_avg', 'cafe_avg_price_5000', 'metro_min_walk', 'metro_km_walk'], inplace = True)\n",
        "df = df.assign(is_investment = (df['product_type'] == \"Investment\"))\n",
        "df = df.drop(columns = 'child_on_acc_pre_school')\n",
        "\n",
        "df['modern_education_share'] = df['modern_education_share'].str.replace(',', '.')\n",
        "df['old_education_build_share'] = df['old_education_build_share'].str.replace(',', '.')\n"
      ],
      "metadata": {
        "id": "Nam4fYIrXXO9"
      },
      "execution_count": 618,
      "outputs": []
    },
    {
      "cell_type": "code",
      "source": [
        "df.replace({\"no\" : \"0\", \"yes\" : '1', \"no data\" : \"0\", \"poor\" : \"1\", 'satisfactory' : '2', 'good' : '3', 'excellent' : '4'}, inplace=True)"
      ],
      "metadata": {
        "id": "BVwv3lG3dApb"
      },
      "execution_count": 619,
      "outputs": []
    },
    {
      "cell_type": "code",
      "source": [
        "df = df.drop(columns = ['timestamp', 'sub_area', 'product_type'])\n",
        "\n",
        "df = df.apply(lambda col : col.astype('float64'))\n",
        "df = df.apply(lambda col: col.fillna(col.median()))\n",
        "\n",
        "x_d = df.drop(columns = 'price_doc')\n",
        "y_d = df['price_doc']"
      ],
      "metadata": {
        "id": "4iALyQqcBe3s"
      },
      "execution_count": 620,
      "outputs": []
    },
    {
      "cell_type": "code",
      "source": [
        "x_train, x_test, y_train, y_test = train_test_split(x_d, y_d, test_size=0.4)\n"
      ],
      "metadata": {
        "id": "Mi5CKYI5BBqZ"
      },
      "execution_count": 621,
      "outputs": []
    },
    {
      "cell_type": "code",
      "source": [
        "df = df[(df[\"price_doc\"] != df[\"price_doc\"].max()) & (df[\"price_doc\"] != 0)]\n",
        "df = df[df[\"full_sq\"] != df[\"full_sq\"].max()]"
      ],
      "metadata": {
        "id": "2sz0OQ-QBySp"
      },
      "execution_count": 622,
      "outputs": []
    },
    {
      "cell_type": "code",
      "source": [],
      "metadata": {
        "id": "tUaNVT3KMRr8"
      },
      "execution_count": 622,
      "outputs": []
    },
    {
      "cell_type": "code",
      "source": [
        "model_r = LinearRegression()\n",
        "\n",
        "model_r.fit(x_train, y_train)\n",
        "\n",
        "y_pred_r = model_r.predict(x_test)\n",
        "\n",
        "print(mean_squared_error(y_test, y_pred_r))\n",
        "print(r2_score(y_test, y_pred_r))\n",
        "\n",
        "plt.scatter(x_test.full_sq, y_test, color=\"black\")\n",
        "plt.plot(x_test.full_sq, y_pred_r, color=\"blue\", linewidth=3, alpha=0.5)\n",
        "plt.show()"
      ],
      "metadata": {
        "colab": {
          "base_uri": "https://localhost:8080/",
          "height": 480
        },
        "id": "OGH4R53YBwTG",
        "outputId": "d4861783-b47e-423d-c1ca-c0e968eb2930"
      },
      "execution_count": 623,
      "outputs": [
        {
          "output_type": "stream",
          "name": "stdout",
          "text": [
            "13565030530405.277\n",
            "0.4448427527916585\n"
          ]
        },
        {
          "output_type": "display_data",
          "data": {
            "text/plain": [
              "<Figure size 640x480 with 1 Axes>"
            ],
            "image/png": "[encoded data removed]"
          },
          "metadata": {}
        }
      ]
    },
    {
      "cell_type": "code",
      "source": [
        "model_f = RandomForestRegressor(n_estimators=100, max_features = 'sqrt')\n",
        "\n",
        "model_f.fit(x_train, y_train)\n",
        "\n",
        "y_pred_f = model_r.predict(x_test)\n",
        "\n",
        "print(mean_squared_error(y_test, y_pred_f))\n",
        "print(r2_score(y_test, y_pred_f))\n",
        "\n",
        "plt.scatter(x_test.full_sq, y_test, color=\"black\")\n",
        "plt.plot(x_test.full_sq, y_pred_f, color=\"blue\", linewidth=3, alpha=0.5)\n",
        "plt.show()"
      ],
      "metadata": {
        "colab": {
          "base_uri": "https://localhost:8080/",
          "height": 480
        },
        "id": "IXrUoqLEKnxQ",
        "outputId": "a6959207-9135-40dc-fe26-9ce541fba8eb"
      },
      "execution_count": 624,
      "outputs": [
        {
          "output_type": "stream",
          "name": "stdout",
          "text": [
            "13565030530405.277\n",
            "0.4448427527916585\n"
          ]
        },
        {
          "output_type": "display_data",
          "data": {
            "text/plain": [
              "<Figure size 640x480 with 1 Axes>"
            ],
            "image/png": "[encoded data removed]"
          },
          "metadata": {}
        }
      ]
    },
    {
      "cell_type": "code",
      "source": [],
      "metadata": {
        "id": "M3wX9QqTKrXd"
      },
      "execution_count": 624,
      "outputs": []
    }
  ]
}